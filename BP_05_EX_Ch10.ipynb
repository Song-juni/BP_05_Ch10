{
  "nbformat": 4,
  "nbformat_minor": 0,
  "metadata": {
    "colab": {
      "provenance": [],
      "authorship_tag": "ABX9TyMQxbii/bxGkZNIncZ6zWd+",
      "include_colab_link": true
    },
    "kernelspec": {
      "name": "python3",
      "display_name": "Python 3"
    },
    "language_info": {
      "name": "python"
    }
  },
  "cells": [
    {
      "cell_type": "markdown",
      "metadata": {
        "id": "view-in-github",
        "colab_type": "text"
      },
      "source": [
        "<a href=\"https://colab.research.google.com/github/Song-juni/BP_05_Ch10/blob/main/BP_05_EX_Ch10.ipynb\" target=\"_parent\"><img src=\"https://colab.research.google.com/assets/colab-badge.svg\" alt=\"Open In Colab\"/></a>"
      ]
    },
    {
      "cell_type": "markdown",
      "source": [
        "#10-1"
      ],
      "metadata": {
        "id": "R1v26An1-CvY"
      }
    },
    {
      "cell_type": "code",
      "source": [
        "from tkinter import Tk, Label, Button\n",
        "\n",
        "def greet():\n",
        "  print(\"파이썬에 오신 것을 환영합니다.\")\n",
        "\n",
        "window = Tk()\n",
        "label = Label(window, text=\"간단한 GUI 프로그램!\")\n",
        "label.pack()\n",
        "\n",
        "greet_button = Button(window, text=\"환영합니다.\", command = greet)\n",
        "greet_button.pack()\n",
        "\n",
        "close_button = Button(window, text=\"종료\", command = window.quit)\n",
        "close_button.pack()\n",
        "\n",
        "window.mainloop()"
      ],
      "metadata": {
        "id": "vkxyYlLcHNVV"
      },
      "execution_count": null,
      "outputs": []
    },
    {
      "cell_type": "markdown",
      "source": [
        "#10-2"
      ],
      "metadata": {
        "id": "G8jXXmNN_WI_"
      }
    },
    {
      "cell_type": "code",
      "source": [
        "from tkinter import Tk, Label, Button, Entry, IntVar, END, W, E\n",
        "def update_add():\n",
        " update(\"add\")\n",
        "\n",
        "def update_subtract():\n",
        " update(\"subtract\")\n",
        "\n",
        "def update_reset():\n",
        " update(\"reset\")\n",
        "\n",
        "window = Tk()\n",
        "total = 0\n",
        "sum = Label(window)\n",
        "sum.grid(row=0, column=1, columnspan=2)\n",
        "\n",
        "label = Label(window, text=\"현재 합계:\")\n",
        "label.grid(row=0, column=0)\n",
        "\n",
        "entry = Entry(window)\n",
        "entry.grid(row=1, column=0, columnspan=3)\n",
        "\n",
        "add_button = Button(window, text=\"더하기(+)\", command=update_add)\n",
        "subtract_button = Button(window, text=\"빼기(-)\", command=update_subtract)\n",
        "reset_button = Button(window, text=\"초기화\", command=update_reset)\n",
        "\n",
        "add_button.grid(row=2, column=0)\n",
        "subtract_button.grid(row=2, column=1)\n",
        "reset_button.grid(row=2, column=2)\n",
        "\n",
        "def update(method):\n",
        " global total\n",
        " if method == \"add\":\n",
        "    total += int(entry.get())\n",
        " elif method == \"subtract\":\n",
        "    total -= int(entry.get())\n",
        " else:\n",
        "    total = 0\n",
        " sum['text'] = str(total)\n",
        " entry.delete(0, END)\n",
        "\n",
        "window.mainloop()"
      ],
      "metadata": {
        "id": "0K7W4aNWHN7M"
      },
      "execution_count": null,
      "outputs": []
    },
    {
      "cell_type": "markdown",
      "source": [
        "#10-3"
      ],
      "metadata": {
        "id": "yYG9X3VEHKlc"
      }
    },
    {
      "cell_type": "code",
      "source": [
        "import random\n",
        "from tkinter import *\n",
        "\n",
        "window = Tk()\n",
        "secret_number = random.randint(1, 100)\n",
        "guess = None\n",
        "num_guesses = 0\n",
        "\n",
        "def guess_number():\n",
        " global num_guesses\n",
        " guess = int(entry.get())\n",
        " num_guesses += 1\n",
        " if guess == secret_number:\n",
        "  message = \"축하합니다!!\"\n",
        " elif guess < secret_number:\n",
        "  message = \"너무 낮아요!!\"\n",
        " else:\n",
        "  message = \"너무 높아요!!\"\n",
        " label['text']= message\n",
        "\n",
        "def reset():\n",
        " global num_guesses\n",
        " entry.delete(0, END)\n",
        " secret_number = random.randint(1, 100)\n",
        " guess = 0\n",
        " num_guesses = 0\n",
        " message = \"1부터 100사이의 숫자를 추측하시오\"\n",
        " label['text']= message\n",
        "\n",
        "message = \"1부터 100사이의 숫자를 추측하시오\"\n",
        "label = Label(window, text=message)\n",
        "entry = Entry(window)\n",
        "\n",
        "guess_button = Button(window, text=\"숫자를 입력\", command=guess_number)\n",
        "reset_button = Button(window, text=\"게임을 다시 실행\", command=reset)\n",
        "\n",
        "label.grid(row=0, column=0, columnspan=2, sticky=W+E)\n",
        "entry.grid(row=1, column=0, columnspan=2, sticky=W+E)\n",
        "guess_button.grid(row=2, column=0)\n",
        "reset_button.grid(row=2, column=1)\n",
        "\n",
        "window.mainloop()"
      ],
      "metadata": {
        "id": "BZhckr3MHVrk"
      },
      "execution_count": null,
      "outputs": []
    },
    {
      "cell_type": "markdown",
      "source": [
        "#10-4"
      ],
      "metadata": {
        "id": "CZ2qrHOFHQA8"
      }
    },
    {
      "cell_type": "code",
      "source": [
        "from tkinter import *\n",
        "\n",
        "def do_convert():\n",
        "  inch_val = float(cvt_from.get())\n",
        "  centimeters_val = inch_val * 2.54\n",
        "  cvt_to.set('%s 센티미터' % centimeters_val)\n",
        "\n",
        "root = Tk()\n",
        "cvt_from = StringVar()\n",
        "cvt_to = StringVar()\n",
        "\n",
        "lbl = Label(root, text='인치를 센티미디로 변환하는 프로그램:')\n",
        "lbl.grid(row=0, column=0, columnspan=2)\n",
        "from_lbl = Label(root, text='인치를 입력하시오:')\n",
        "from_lbl.grid(row=1, column=0)\n",
        "from_entry = Entry(root, textvariable=cvt_from)\n",
        "from_entry.grid(row=1, column=1)\n",
        "\n",
        "to_lbl = Label(root, text='변환결과:')\n",
        "to_lbl.grid(row=2, column=0)\n",
        "result_lbl = Label(root,textvariable=cvt_to)\n",
        "result_lbl.grid(row=2, column=1)\n",
        "\n",
        "convert_btn = Button(root,text='변환!', command=do_convert)\n",
        "convert_btn.grid(row=3, column=1)\n",
        "root.mainloop()"
      ],
      "metadata": {
        "id": "279NOm9PHWO8"
      },
      "execution_count": null,
      "outputs": []
    },
    {
      "cell_type": "markdown",
      "source": [
        "#10-5"
      ],
      "metadata": {
        "id": "2u2R4iIfHSqs"
      }
    },
    {
      "cell_type": "code",
      "source": [],
      "metadata": {
        "id": "_zk_AuU2HWz8"
      },
      "execution_count": null,
      "outputs": []
    },
    {
      "cell_type": "markdown",
      "source": [
        "#10-6"
      ],
      "metadata": {
        "id": "vruct_alHUC8"
      }
    },
    {
      "cell_type": "code",
      "source": [],
      "metadata": {
        "id": "iqs9HMINHXH8"
      },
      "execution_count": null,
      "outputs": []
    }
  ]
}